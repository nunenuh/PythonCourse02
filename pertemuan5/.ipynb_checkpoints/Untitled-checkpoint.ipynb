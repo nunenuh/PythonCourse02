{
 "cells": [
  {
   "cell_type": "code",
   "execution_count": 4,
   "metadata": {},
   "outputs": [
    {
     "name": "stdout",
     "output_type": "stream",
     "text": [
      "21\n",
      "-1\n"
     ]
    }
   ],
   "source": [
    "angka1 = 10\n",
    "angka2 = 11\n",
    "\n",
    "penjumlahan = angka1 + angka2\n",
    "pengurangan = angka1 - angka2\n",
    "\n",
    "print(penjumlahan)\n",
    "\n",
    "pengurangan = angka1 - angka2\n",
    "print(pengurangan)"
   ]
  },
  {
   "cell_type": "code",
   "execution_count": 9,
   "metadata": {},
   "outputs": [
    {
     "name": "stdout",
     "output_type": "stream",
     "text": [
      "21\n",
      "-1\n",
      "-90\n"
     ]
    }
   ],
   "source": [
    "def penjumlahan(angka1, angka2):\n",
    "    return angka1 + angka2\n",
    "\n",
    "def pengurangan(angka1, angka2):\n",
    "    return angka1 - angka2\n",
    "\n",
    "hasilPenj = penjumlahan(10, 11)\n",
    "hasilPeng = pengurangan(10, 11)\n",
    "print(hasilPenj)\n",
    "print(hasilPeng)\n",
    "print(pengurangan(10, 100))"
   ]
  },
  {
   "cell_type": "code",
   "execution_count": 18,
   "metadata": {},
   "outputs": [
    {
     "name": "stdout",
     "output_type": "stream",
     "text": [
      "23\n"
     ]
    }
   ],
   "source": [
    "def f(x):\n",
    "    return 2*x+3\n",
    "z = 10\n",
    "hasil = f(x)\n",
    "print(hasil)"
   ]
  },
  {
   "cell_type": "code",
   "execution_count": 3,
   "metadata": {},
   "outputs": [
    {
     "name": "stdout",
     "output_type": "stream",
     "text": [
      "23\n"
     ]
    }
   ],
   "source": [
    "def f(x):\n",
    "    return 2*x+3\n",
    "z = 10\n",
    "hasil = f(z)\n",
    "print(hasil)"
   ]
  },
  {
   "cell_type": "code",
   "execution_count": 4,
   "metadata": {},
   "outputs": [
    {
     "name": "stdout",
     "output_type": "stream",
     "text": [
      "11\n"
     ]
    }
   ],
   "source": [
    "def jumlah(x, y, z):\n",
    "    return z\n",
    "\n",
    "jml = jumlah(10, 100, 11)\n",
    "print(jml)"
   ]
  },
  {
   "cell_type": "code",
   "execution_count": 7,
   "metadata": {},
   "outputs": [
    {
     "name": "stdout",
     "output_type": "stream",
     "text": [
      "10\n",
      "10\n"
     ]
    }
   ],
   "source": [
    "\n",
    "def perkalian(x=10, y=11):\n",
    "    print(x)\n",
    "    print(x)\n",
    "    return x*y\n",
    "\n",
    "# print(x)\n",
    "\n",
    "hasil = perkalian(y = 100)\n",
    "# print(hasil)"
   ]
  },
  {
   "cell_type": "code",
   "execution_count": null,
   "metadata": {
    "collapsed": true
   },
   "outputs": [],
   "source": []
  }
 ],
 "metadata": {
  "kernelspec": {
   "display_name": "Python 3",
   "language": "python",
   "name": "python3"
  },
  "language_info": {
   "codemirror_mode": {
    "name": "ipython",
    "version": 3
   },
   "file_extension": ".py",
   "mimetype": "text/x-python",
   "name": "python",
   "nbconvert_exporter": "python",
   "pygments_lexer": "ipython3",
   "version": "3.6.2"
  }
 },
 "nbformat": 4,
 "nbformat_minor": 2
}
