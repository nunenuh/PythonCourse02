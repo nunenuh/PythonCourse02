{
 "cells": [
  {
   "cell_type": "code",
   "execution_count": 2,
   "metadata": {},
   "outputs": [
    {
     "name": "stdout",
     "output_type": "stream",
     "text": [
      "    tanggal     uraian    debet  kredit  selisih\n",
      "0  21/10/17     Gajian  1000000       0  1000000\n",
      "1  22/10/17  Beli Kopi        0   25000   975000\n",
      "2  25/10/17  Beli Baju        0  150000   825000\n",
      "    tanggal     uraian    debet  kredit  selisih\n",
      "0  21/10/17     Gajian  1000000       0  1000000\n",
      "1  22/10/17  Beli Kopi        0   25000   975000\n",
      "2  25/10/17  Beli Baju        0  150000   825000\n"
     ]
    }
   ],
   "source": [
    "import pandas as pd\n",
    "from pandas import ExcelWriter\n",
    "from pandas import ExcelFile\n",
    "\n",
    "\n",
    "def balance(debet, kredit):\n",
    "    sel = []\n",
    "    for idx in range(0, len(debet)):\n",
    "        if idx == 0: # idx pasti bernilai 0\n",
    "            awal = debet[idx] - kredit[idx]\n",
    "            sel.append(awal)\n",
    "        else: # idx pasti lebih besar dari 0\n",
    "            idx_before = idx - 1\n",
    "            lanjutan =  debet[idx] - kredit[idx] + sel[idx_before]\n",
    "            sel.append(lanjutan)\n",
    "    return sel\n",
    "\n",
    "\n",
    "# mengambil data dari data.csv dan di ubah menjadi\n",
    "# panda DataFrame\n",
    "df = pd.read_excel('/media/eby/DATA/data.xlsx')\n",
    "print(df.head())\n",
    "\n",
    "# mengambil nilai berbentuk array dari tiap kolom\n",
    "# yaitu kolom debet dan kredit dan menambah kolom\n",
    "# selisih ke dalam DataFrame\n",
    "\n",
    "debet = df.debet.values\n",
    "kredit = df.kredit.values\n",
    "df['selisih'] = balance(debet,kredit)\n",
    "\n",
    "print(df)"
   ]
  },
  {
   "cell_type": "code",
   "execution_count": null,
   "metadata": {
    "collapsed": true
   },
   "outputs": [],
   "source": []
  }
 ],
 "metadata": {
  "kernelspec": {
   "display_name": "Python 3",
   "language": "python",
   "name": "python3"
  },
  "language_info": {
   "codemirror_mode": {
    "name": "ipython",
    "version": 3
   },
   "file_extension": ".py",
   "mimetype": "text/x-python",
   "name": "python",
   "nbconvert_exporter": "python",
   "pygments_lexer": "ipython3",
   "version": "3.6.2"
  }
 },
 "nbformat": 4,
 "nbformat_minor": 2
}
